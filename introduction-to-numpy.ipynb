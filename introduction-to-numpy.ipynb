{
 "cells": [
  {
   "cell_type": "code",
   "execution_count": 16,
   "id": "f2fba6fc-0c98-43c3-9957-df6086ebe89f",
   "metadata": {},
   "outputs": [],
   "source": [
    "import numpy as np"
   ]
  },
  {
   "cell_type": "code",
   "execution_count": 5,
   "id": "36ad61c4-3365-479e-ba94-55864637135c",
   "metadata": {},
   "outputs": [
    {
     "data": {
      "text/plain": [
       "array([[9, 9, 9],\n",
       "       [6, 5, 1],\n",
       "       [3, 2, 3],\n",
       "       [5, 6, 2],\n",
       "       [9, 9, 7]])"
      ]
     },
     "execution_count": 5,
     "metadata": {},
     "output_type": "execute_result"
    }
   ],
   "source": [
    "random_array1 = np.random.randint(0,10, size = (5,3))\n",
    "random_array1"
   ]
  },
  {
   "cell_type": "code",
   "execution_count": 16,
   "id": "b2bf2e16-48c0-424e-ab22-f2edc594088a",
   "metadata": {},
   "outputs": [
    {
     "data": {
      "text/plain": [
       "array([[5, 0, 3],\n",
       "       [3, 7, 9],\n",
       "       [3, 5, 2],\n",
       "       [4, 7, 6],\n",
       "       [8, 8, 1]])"
      ]
     },
     "execution_count": 16,
     "metadata": {},
     "output_type": "execute_result"
    }
   ],
   "source": [
    "# Sudo random number\n",
    "np.random.seed(0)\n",
    "random_array2 = np.random.randint(0,10, size = (5,3))\n",
    "random_array2"
   ]
  },
  {
   "cell_type": "code",
   "execution_count": 22,
   "id": "802efa4f-0725-4812-aea3-0ec65a7dfd8d",
   "metadata": {},
   "outputs": [
    {
     "data": {
      "text/plain": [
       "array([[0.57019677, 0.43860151, 0.98837384],\n",
       "       [0.10204481, 0.20887676, 0.16130952],\n",
       "       [0.65310833, 0.2532916 , 0.46631077],\n",
       "       [0.24442559, 0.15896958, 0.11037514],\n",
       "       [0.65632959, 0.13818295, 0.19658236]])"
      ]
     },
     "execution_count": 22,
     "metadata": {},
     "output_type": "execute_result"
    }
   ],
   "source": [
    "random_array3 = np.random.random((5,3))\n",
    "random_array3"
   ]
  },
  {
   "cell_type": "code",
   "execution_count": 28,
   "id": "651c9943-baed-4da4-bee4-9be073e6fde2",
   "metadata": {},
   "outputs": [
    {
     "data": {
      "text/plain": [
       "array([[0.5488135 , 0.71518937, 0.60276338],\n",
       "       [0.54488318, 0.4236548 , 0.64589411],\n",
       "       [0.43758721, 0.891773  , 0.96366276],\n",
       "       [0.38344152, 0.79172504, 0.52889492],\n",
       "       [0.56804456, 0.92559664, 0.07103606]])"
      ]
     },
     "execution_count": 28,
     "metadata": {},
     "output_type": "execute_result"
    }
   ],
   "source": [
    "np.random.seed(0)\n",
    "random_array3 = np.random.random((5,3))\n",
    "random_array3"
   ]
  },
  {
   "cell_type": "markdown",
   "id": "174a3639-1d3b-4d30-9ca7-e2a5a1eec0d7",
   "metadata": {},
   "source": [
    "## 3. Viewing Array and Metric"
   ]
  },
  {
   "cell_type": "code",
   "execution_count": 31,
   "id": "7d0f81d3-1b6f-4d22-9cf5-7a609366fa12",
   "metadata": {},
   "outputs": [
    {
     "data": {
      "text/plain": [
       "array([0.0202184 , 0.0871293 , 0.11827443, 0.14335329, 0.41466194,\n",
       "       0.46147936, 0.52184832, 0.63992102, 0.77815675, 0.78052918,\n",
       "       0.79915856, 0.83261985, 0.87001215, 0.94466892, 0.97861834])"
      ]
     },
     "execution_count": 31,
     "metadata": {},
     "output_type": "execute_result"
    }
   ],
   "source": [
    "np.unique(random_array3)"
   ]
  },
  {
   "cell_type": "code",
   "execution_count": 3,
   "id": "cc848539-3b92-423a-8244-0f0a1c93918d",
   "metadata": {},
   "outputs": [],
   "source": [
    "# Demo of std and var\n",
    "high_var_array = np.array([1,100,200,300,4000,5000])\n",
    "low_var_array = np.array ([2,4,6,8,10])"
   ]
  },
  {
   "cell_type": "code",
   "execution_count": 4,
   "id": "1cc9b439-2ae0-4344-9fe2-f2e7a087ff33",
   "metadata": {},
   "outputs": [
    {
     "data": {
      "text/plain": [
       "(4296133.472222221, 8.0)"
      ]
     },
     "execution_count": 4,
     "metadata": {},
     "output_type": "execute_result"
    }
   ],
   "source": [
    "np.var(high_var_array), np.var(low_var_array)"
   ]
  },
  {
   "cell_type": "code",
   "execution_count": 5,
   "id": "d4f26fb8-a4a4-49c5-a5fe-ef4ff2ade840",
   "metadata": {},
   "outputs": [
    {
     "data": {
      "text/plain": [
       "(2072.711623024829, 2.8284271247461903)"
      ]
     },
     "execution_count": 5,
     "metadata": {},
     "output_type": "execute_result"
    }
   ],
   "source": [
    "np.std(high_var_array), np.std(low_var_array)"
   ]
  },
  {
   "cell_type": "code",
   "execution_count": 6,
   "id": "cb28f467-3870-4d9c-97a6-0d3dea596ec9",
   "metadata": {},
   "outputs": [
    {
     "data": {
      "text/plain": [
       "(1600.1666666666667, 6.0)"
      ]
     },
     "execution_count": 6,
     "metadata": {},
     "output_type": "execute_result"
    }
   ],
   "source": [
    "np.mean(high_var_array), np.mean(low_var_array)"
   ]
  },
  {
   "cell_type": "code",
   "execution_count": 7,
   "id": "85e2597b-8afa-464e-b948-b3b5d646bf02",
   "metadata": {},
   "outputs": [
    {
     "data": {
      "text/plain": [
       "3.5"
      ]
     },
     "execution_count": 7,
     "metadata": {},
     "output_type": "execute_result"
    }
   ],
   "source": [
    "data = [1,2,3,4,5,6]\n",
    "np.mean(data)"
   ]
  },
  {
   "cell_type": "markdown",
   "id": "865775c4-c7c6-48a9-b57a-18a1e4a162e2",
   "metadata": {},
   "source": [
    "## Dot product example (nut butter sales)"
   ]
  },
  {
   "cell_type": "code",
   "execution_count": 14,
   "id": "3b4a4122-e470-4992-9764-258c3d97dac9",
   "metadata": {},
   "outputs": [
    {
     "data": {
      "text/plain": [
       "array([[12, 15,  0],\n",
       "       [ 3,  3,  7],\n",
       "       [ 9, 19, 18],\n",
       "       [ 4,  6, 12],\n",
       "       [ 1,  6,  7]])"
      ]
     },
     "execution_count": 14,
     "metadata": {},
     "output_type": "execute_result"
    }
   ],
   "source": [
    "np.random.seed(0)\n",
    "# Number of jars sold\n",
    "sales_amount = np.random.randint(20, size=(5,3))\n",
    "sales_amount\n"
   ]
  },
  {
   "cell_type": "markdown",
   "id": "0839719c-295e-4d14-9354-059011ac4448",
   "metadata": {},
   "source": [
    "## Create weekly sales data Frame"
   ]
  },
  {
   "cell_type": "code",
   "execution_count": 10,
   "id": "2b031092-1069-4088-987e-64bd50a25c8e",
   "metadata": {},
   "outputs": [],
   "source": [
    "import pandas as pd"
   ]
  },
  {
   "cell_type": "code",
   "execution_count": 15,
   "id": "0a1fbaf0-e922-47ba-92b8-b4e41984cfc8",
   "metadata": {},
   "outputs": [
    {
     "data": {
      "text/html": [
       "<div>\n",
       "<style scoped>\n",
       "    .dataframe tbody tr th:only-of-type {\n",
       "        vertical-align: middle;\n",
       "    }\n",
       "\n",
       "    .dataframe tbody tr th {\n",
       "        vertical-align: top;\n",
       "    }\n",
       "\n",
       "    .dataframe thead th {\n",
       "        text-align: right;\n",
       "    }\n",
       "</style>\n",
       "<table border=\"1\" class=\"dataframe\">\n",
       "  <thead>\n",
       "    <tr style=\"text-align: right;\">\n",
       "      <th></th>\n",
       "      <th>Almod butter</th>\n",
       "      <th>Peanut butter</th>\n",
       "      <th>Cashew butter</th>\n",
       "    </tr>\n",
       "  </thead>\n",
       "  <tbody>\n",
       "    <tr>\n",
       "      <th>Mon</th>\n",
       "      <td>12</td>\n",
       "      <td>15</td>\n",
       "      <td>0</td>\n",
       "    </tr>\n",
       "    <tr>\n",
       "      <th>TUE</th>\n",
       "      <td>3</td>\n",
       "      <td>3</td>\n",
       "      <td>7</td>\n",
       "    </tr>\n",
       "    <tr>\n",
       "      <th>WED</th>\n",
       "      <td>9</td>\n",
       "      <td>19</td>\n",
       "      <td>18</td>\n",
       "    </tr>\n",
       "    <tr>\n",
       "      <th>THU</th>\n",
       "      <td>4</td>\n",
       "      <td>6</td>\n",
       "      <td>12</td>\n",
       "    </tr>\n",
       "    <tr>\n",
       "      <th>FRI</th>\n",
       "      <td>1</td>\n",
       "      <td>6</td>\n",
       "      <td>7</td>\n",
       "    </tr>\n",
       "  </tbody>\n",
       "</table>\n",
       "</div>"
      ],
      "text/plain": [
       "     Almod butter  Peanut butter  Cashew butter\n",
       "Mon            12             15              0\n",
       "TUE             3              3              7\n",
       "WED             9             19             18\n",
       "THU             4              6             12\n",
       "FRI             1              6              7"
      ]
     },
     "execution_count": 15,
     "metadata": {},
     "output_type": "execute_result"
    }
   ],
   "source": [
    "weekly_sales = pd.DataFrame(sales_amount,index=([\"Mon\", \"TUE\",\"WED\", \"THU\",\"FRI\"]),columns=([\"Almod butter\",\"Peanut butter\",\"Cashew butter\"]))\n",
    "weekly_sales"
   ]
  },
  {
   "cell_type": "code",
   "execution_count": 35,
   "id": "d4ca5278-d8de-4f86-b0c1-d77659d31e62",
   "metadata": {},
   "outputs": [
    {
     "data": {
      "text/plain": [
       "array(['10', '8', '12'], dtype='<U2')"
      ]
     },
     "execution_count": 35,
     "metadata": {},
     "output_type": "execute_result"
    }
   ],
   "source": [
    "# Create price array\n",
    "\n",
    "price = np.array([\"10\",\"8\",\"12\"])\n",
    "price"
   ]
  },
  {
   "cell_type": "code",
   "execution_count": 24,
   "id": "a5bdfb9b-c35e-4034-8891-f656f885613c",
   "metadata": {},
   "outputs": [
    {
     "data": {
      "text/plain": [
       "(3,)"
      ]
     },
     "execution_count": 24,
     "metadata": {},
     "output_type": "execute_result"
    }
   ],
   "source": [
    "price.shape"
   ]
  },
  {
   "cell_type": "code",
   "execution_count": 27,
   "id": "df9f5803-4ce2-436b-b297-156af1aa9e87",
   "metadata": {},
   "outputs": [
    {
     "data": {
      "text/plain": [
       "array([['10', '8', '12']], dtype='<U2')"
      ]
     },
     "execution_count": 27,
     "metadata": {},
     "output_type": "execute_result"
    }
   ],
   "source": [
    "price.reshape(1,3)"
   ]
  },
  {
   "cell_type": "code",
   "execution_count": 41,
   "id": "eaeb9362-dfd7-438c-b3ad-ee809da0e444",
   "metadata": {},
   "outputs": [
    {
     "data": {
      "text/html": [
       "<div>\n",
       "<style scoped>\n",
       "    .dataframe tbody tr th:only-of-type {\n",
       "        vertical-align: middle;\n",
       "    }\n",
       "\n",
       "    .dataframe tbody tr th {\n",
       "        vertical-align: top;\n",
       "    }\n",
       "\n",
       "    .dataframe thead th {\n",
       "        text-align: right;\n",
       "    }\n",
       "</style>\n",
       "<table border=\"1\" class=\"dataframe\">\n",
       "  <thead>\n",
       "    <tr style=\"text-align: right;\">\n",
       "      <th></th>\n",
       "      <th>Almod butter</th>\n",
       "      <th>Peanut butter</th>\n",
       "      <th>Cashew butter</th>\n",
       "    </tr>\n",
       "  </thead>\n",
       "  <tbody>\n",
       "    <tr>\n",
       "      <th>Price</th>\n",
       "      <td>10</td>\n",
       "      <td>8</td>\n",
       "      <td>12</td>\n",
       "    </tr>\n",
       "  </tbody>\n",
       "</table>\n",
       "</div>"
      ],
      "text/plain": [
       "      Almod butter Peanut butter Cashew butter\n",
       "Price           10             8            12"
      ]
     },
     "execution_count": 41,
     "metadata": {},
     "output_type": "execute_result"
    }
   ],
   "source": [
    "butter_price = pd.DataFrame(price.reshape(1,3),index=([\"Price\"]), columns=([\"Almod butter\",\"Peanut butter\",\"Cashew butter\"]))\n",
    "butter_price"
   ]
  },
  {
   "cell_type": "code",
   "execution_count": 31,
   "id": "89876068-491c-4449-96ee-2e7a115c315d",
   "metadata": {},
   "outputs": [
    {
     "data": {
      "text/plain": [
       "(5, 3)"
      ]
     },
     "execution_count": 31,
     "metadata": {},
     "output_type": "execute_result"
    }
   ],
   "source": [
    "sales_amount.shape"
   ]
  },
  {
   "cell_type": "code",
   "execution_count": 32,
   "id": "13e5ec06-146e-4400-91c3-735a7ea1d39f",
   "metadata": {},
   "outputs": [
    {
     "data": {
      "text/plain": [
       "(3,)"
      ]
     },
     "execution_count": 32,
     "metadata": {},
     "output_type": "execute_result"
    }
   ],
   "source": [
    "price.shape"
   ]
  },
  {
   "cell_type": "code",
   "execution_count": 39,
   "id": "a7345095-41aa-4d8c-b64d-d4982935297e",
   "metadata": {},
   "outputs": [
    {
     "data": {
      "text/plain": [
       "array([240, 138, 458, 232, 142])"
      ]
     },
     "execution_count": 39,
     "metadata": {},
     "output_type": "execute_result"
    }
   ],
   "source": [
    "total_sales = price.astype(int).dot(sales_amount.T)\n",
    "total_sales"
   ]
  },
  {
   "cell_type": "code",
   "execution_count": 49,
   "id": "979ca96c-c61b-4e87-8d24-e51f377ccf30",
   "metadata": {},
   "outputs": [
    {
     "data": {
      "text/html": [
       "<div>\n",
       "<style scoped>\n",
       "    .dataframe tbody tr th:only-of-type {\n",
       "        vertical-align: middle;\n",
       "    }\n",
       "\n",
       "    .dataframe tbody tr th {\n",
       "        vertical-align: top;\n",
       "    }\n",
       "\n",
       "    .dataframe thead th {\n",
       "        text-align: right;\n",
       "    }\n",
       "</style>\n",
       "<table border=\"1\" class=\"dataframe\">\n",
       "  <thead>\n",
       "    <tr style=\"text-align: right;\">\n",
       "      <th></th>\n",
       "      <th>Almod butter</th>\n",
       "      <th>Peanut butter</th>\n",
       "      <th>Cashew butter</th>\n",
       "      <th>Total($)</th>\n",
       "    </tr>\n",
       "  </thead>\n",
       "  <tbody>\n",
       "    <tr>\n",
       "      <th>Mon</th>\n",
       "      <td>12</td>\n",
       "      <td>15</td>\n",
       "      <td>0</td>\n",
       "      <td>240</td>\n",
       "    </tr>\n",
       "    <tr>\n",
       "      <th>TUE</th>\n",
       "      <td>3</td>\n",
       "      <td>3</td>\n",
       "      <td>7</td>\n",
       "      <td>138</td>\n",
       "    </tr>\n",
       "    <tr>\n",
       "      <th>WED</th>\n",
       "      <td>9</td>\n",
       "      <td>19</td>\n",
       "      <td>18</td>\n",
       "      <td>458</td>\n",
       "    </tr>\n",
       "    <tr>\n",
       "      <th>THU</th>\n",
       "      <td>4</td>\n",
       "      <td>6</td>\n",
       "      <td>12</td>\n",
       "      <td>232</td>\n",
       "    </tr>\n",
       "    <tr>\n",
       "      <th>FRI</th>\n",
       "      <td>1</td>\n",
       "      <td>6</td>\n",
       "      <td>7</td>\n",
       "      <td>142</td>\n",
       "    </tr>\n",
       "  </tbody>\n",
       "</table>\n",
       "</div>"
      ],
      "text/plain": [
       "     Almod butter  Peanut butter  Cashew butter  Total($)\n",
       "Mon            12             15              0       240\n",
       "TUE             3              3              7       138\n",
       "WED             9             19             18       458\n",
       "THU             4              6             12       232\n",
       "FRI             1              6              7       142"
      ]
     },
     "execution_count": 49,
     "metadata": {},
     "output_type": "execute_result"
    }
   ],
   "source": [
    "butter_price.shape, weekly_sales.shape\n",
    "weekly_sales"
   ]
  },
  {
   "cell_type": "code",
   "execution_count": 46,
   "id": "1f672ad0-f3d0-4813-b127-c429e31c3ab1",
   "metadata": {},
   "outputs": [
    {
     "data": {
      "text/html": [
       "<div>\n",
       "<style scoped>\n",
       "    .dataframe tbody tr th:only-of-type {\n",
       "        vertical-align: middle;\n",
       "    }\n",
       "\n",
       "    .dataframe tbody tr th {\n",
       "        vertical-align: top;\n",
       "    }\n",
       "\n",
       "    .dataframe thead th {\n",
       "        text-align: right;\n",
       "    }\n",
       "</style>\n",
       "<table border=\"1\" class=\"dataframe\">\n",
       "  <thead>\n",
       "    <tr style=\"text-align: right;\">\n",
       "      <th></th>\n",
       "      <th>Almod butter</th>\n",
       "      <th>Peanut butter</th>\n",
       "      <th>Cashew butter</th>\n",
       "      <th>Total($)</th>\n",
       "    </tr>\n",
       "  </thead>\n",
       "  <tbody>\n",
       "    <tr>\n",
       "      <th>Mon</th>\n",
       "      <td>12</td>\n",
       "      <td>15</td>\n",
       "      <td>0</td>\n",
       "      <td>240</td>\n",
       "    </tr>\n",
       "    <tr>\n",
       "      <th>TUE</th>\n",
       "      <td>3</td>\n",
       "      <td>3</td>\n",
       "      <td>7</td>\n",
       "      <td>138</td>\n",
       "    </tr>\n",
       "    <tr>\n",
       "      <th>WED</th>\n",
       "      <td>9</td>\n",
       "      <td>19</td>\n",
       "      <td>18</td>\n",
       "      <td>458</td>\n",
       "    </tr>\n",
       "    <tr>\n",
       "      <th>THU</th>\n",
       "      <td>4</td>\n",
       "      <td>6</td>\n",
       "      <td>12</td>\n",
       "      <td>232</td>\n",
       "    </tr>\n",
       "    <tr>\n",
       "      <th>FRI</th>\n",
       "      <td>1</td>\n",
       "      <td>6</td>\n",
       "      <td>7</td>\n",
       "      <td>142</td>\n",
       "    </tr>\n",
       "  </tbody>\n",
       "</table>\n",
       "</div>"
      ],
      "text/plain": [
       "     Almod butter  Peanut butter  Cashew butter  Total($)\n",
       "Mon            12             15              0       240\n",
       "TUE             3              3              7       138\n",
       "WED             9             19             18       458\n",
       "THU             4              6             12       232\n",
       "FRI             1              6              7       142"
      ]
     },
     "execution_count": 46,
     "metadata": {},
     "output_type": "execute_result"
    }
   ],
   "source": [
    "# weekly_sales[\"Total($)\"] = total_sales \n",
    "# weekly_sales"
   ]
  },
  {
   "cell_type": "code",
   "execution_count": null,
   "id": "a41f99fc-725e-408f-9f74-f3af484bc059",
   "metadata": {},
   "outputs": [],
   "source": []
  }
 ],
 "metadata": {
  "kernelspec": {
   "display_name": "Python 3 (ipykernel)",
   "language": "python",
   "name": "python3"
  },
  "language_info": {
   "codemirror_mode": {
    "name": "ipython",
    "version": 3
   },
   "file_extension": ".py",
   "mimetype": "text/x-python",
   "name": "python",
   "nbconvert_exporter": "python",
   "pygments_lexer": "ipython3",
   "version": "3.12.7"
  }
 },
 "nbformat": 4,
 "nbformat_minor": 5
}
